{
 "cells": [
  {
   "cell_type": "markdown",
   "metadata": {
    "slideshow": {
     "slide_type": "slide"
    }
   },
   "source": [
    "<h1>ETCBC's Text-Fabric</h1>\n",
    "<h2>The what, the how, and its future</h2>\n",
    "<br>\n",
    "<hr>\n",
    "**Christiaan Erwich & Cody Kingham**"
   ]
  },
  {
   "cell_type": "markdown",
   "metadata": {
    "slideshow": {
     "slide_type": "slide"
    }
   },
   "source": [
    "<h2>Introduction</h2>\n",
    "\n",
    "* What is Text-Fabric?\n",
    "    * Basic Info\n",
    "        * Predecessors (LAF, SHEBANQ)\n",
    "        * columnar data processed with: \n",
    "            * Python 3.x package\n",
    "            * easily processable with other languages\n",
    "    \n",
    "    * Data Model\n",
    "        * Directed graph, slots, Nodes&Edges, otypes\n",
    "        * Contrast with Other Data Models\n",
    "        * Demonstrate otypes, etc. in format of general coutings (e.g. Dirk's tutorial)\n",
    "     \n",
    "    "
   ]
  },
  {
   "cell_type": "code",
   "execution_count": 10,
   "metadata": {
    "collapsed": true,
    "slideshow": {
     "slide_type": "notes"
    }
   },
   "outputs": [],
   "source": [
    "from tf.fabric import Fabric\n",
    "TF = Fabric(modules='hebrew/etcbc4c', silent=True)\n",
    "api = TF.load('''\n",
    "                book chapter verse\n",
    "                function typ\n",
    "              ''', silent=True)\n",
    "api.makeAvailableIn(globals())"
   ]
  },
  {
   "cell_type": "markdown",
   "metadata": {
    "slideshow": {
     "slide_type": "slide"
    }
   },
   "source": [
    "<h2>The how</h2>\n",
    "\n",
    "* Demonstrate classes and features with relatable text from HB\n",
    "* relatable text\n",
    "* relatable features "
   ]
  },
  {
   "cell_type": "markdown",
   "metadata": {
    "slideshow": {
     "slide_type": "slide"
    }
   },
   "source": [
    "# 3x Yeah"
   ]
  },
  {
   "cell_type": "code",
   "execution_count": null,
   "metadata": {
    "collapsed": true
   },
   "outputs": [],
   "source": []
  }
 ],
 "metadata": {
  "celltoolbar": "Slideshow",
  "kernelspec": {
   "display_name": "Python 3",
   "language": "python",
   "name": "python3"
  },
  "language_info": {
   "codemirror_mode": {
    "name": "ipython",
    "version": 3
   },
   "file_extension": ".py",
   "mimetype": "text/x-python",
   "name": "python",
   "nbconvert_exporter": "python",
   "pygments_lexer": "ipython3",
   "version": "3.6.1"
  }
 },
 "nbformat": 4,
 "nbformat_minor": 2
}
